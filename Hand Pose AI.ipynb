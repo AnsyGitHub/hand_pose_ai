{
 "cells": [
  {
   "cell_type": "markdown",
   "id": "4bff48ed-5c55-49b1-ba80-82477247ea05",
   "metadata": {},
   "source": [
    "# Hand Tracking and Left/Right Hand Detection"
   ]
  },
  {
   "cell_type": "code",
   "execution_count": null,
   "id": "80ada6b0-c1ca-4527-8da9-0c1ae15fc0df",
   "metadata": {},
   "outputs": [],
   "source": [
    "#Make sure the python version is 3.8 - 3.11\n",
    "!python --version "
   ]
  },
  {
   "cell_type": "code",
   "execution_count": 6,
   "id": "843d2ab8-7600-4f98-8741-d3a318c5e02c",
   "metadata": {
    "scrolled": true
   },
   "outputs": [
    {
     "name": "stdout",
     "output_type": "stream",
     "text": [
      "Requirement already satisfied: mediapipe in c:\\users\\muhammad ans\\desktop\\jupyter\\venv\\lib\\site-packages (0.10.9)\n",
      "Requirement already satisfied: opencv-python in c:\\users\\muhammad ans\\desktop\\jupyter\\venv\\lib\\site-packages (4.9.0.80)\n",
      "Requirement already satisfied: absl-py in c:\\users\\muhammad ans\\desktop\\jupyter\\venv\\lib\\site-packages (from mediapipe) (2.1.0)\n",
      "Requirement already satisfied: attrs>=19.1.0 in c:\\users\\muhammad ans\\desktop\\jupyter\\venv\\lib\\site-packages (from mediapipe) (23.2.0)\n",
      "Requirement already satisfied: flatbuffers>=2.0 in c:\\users\\muhammad ans\\desktop\\jupyter\\venv\\lib\\site-packages (from mediapipe) (23.5.26)\n",
      "Requirement already satisfied: matplotlib in c:\\users\\muhammad ans\\desktop\\jupyter\\venv\\lib\\site-packages (from mediapipe) (3.8.2)\n",
      "Requirement already satisfied: numpy in c:\\users\\muhammad ans\\desktop\\jupyter\\venv\\lib\\site-packages (from mediapipe) (1.26.3)\n",
      "Requirement already satisfied: opencv-contrib-python in c:\\users\\muhammad ans\\desktop\\jupyter\\venv\\lib\\site-packages (from mediapipe) (4.9.0.80)\n",
      "Requirement already satisfied: protobuf<4,>=3.11 in c:\\users\\muhammad ans\\desktop\\jupyter\\venv\\lib\\site-packages (from mediapipe) (3.20.3)\n",
      "Requirement already satisfied: sounddevice>=0.4.4 in c:\\users\\muhammad ans\\desktop\\jupyter\\venv\\lib\\site-packages (from mediapipe) (0.4.6)\n",
      "Requirement already satisfied: CFFI>=1.0 in c:\\users\\muhammad ans\\desktop\\jupyter\\venv\\lib\\site-packages (from sounddevice>=0.4.4->mediapipe) (1.16.0)\n",
      "Requirement already satisfied: contourpy>=1.0.1 in c:\\users\\muhammad ans\\desktop\\jupyter\\venv\\lib\\site-packages (from matplotlib->mediapipe) (1.2.0)\n",
      "Requirement already satisfied: cycler>=0.10 in c:\\users\\muhammad ans\\desktop\\jupyter\\venv\\lib\\site-packages (from matplotlib->mediapipe) (0.12.1)\n",
      "Requirement already satisfied: fonttools>=4.22.0 in c:\\users\\muhammad ans\\desktop\\jupyter\\venv\\lib\\site-packages (from matplotlib->mediapipe) (4.47.2)\n",
      "Requirement already satisfied: kiwisolver>=1.3.1 in c:\\users\\muhammad ans\\desktop\\jupyter\\venv\\lib\\site-packages (from matplotlib->mediapipe) (1.4.5)\n",
      "Requirement already satisfied: packaging>=20.0 in c:\\users\\muhammad ans\\desktop\\jupyter\\venv\\lib\\site-packages (from matplotlib->mediapipe) (23.2)\n",
      "Requirement already satisfied: pillow>=8 in c:\\users\\muhammad ans\\desktop\\jupyter\\venv\\lib\\site-packages (from matplotlib->mediapipe) (10.2.0)\n",
      "Requirement already satisfied: pyparsing>=2.3.1 in c:\\users\\muhammad ans\\desktop\\jupyter\\venv\\lib\\site-packages (from matplotlib->mediapipe) (3.1.1)\n",
      "Requirement already satisfied: python-dateutil>=2.7 in c:\\users\\muhammad ans\\desktop\\jupyter\\venv\\lib\\site-packages (from matplotlib->mediapipe) (2.8.2)\n",
      "Requirement already satisfied: pycparser in c:\\users\\muhammad ans\\desktop\\jupyter\\venv\\lib\\site-packages (from CFFI>=1.0->sounddevice>=0.4.4->mediapipe) (2.21)\n",
      "Requirement already satisfied: six>=1.5 in c:\\users\\muhammad ans\\desktop\\jupyter\\venv\\lib\\site-packages (from python-dateutil>=2.7->matplotlib->mediapipe) (1.16.0)\n"
     ]
    }
   ],
   "source": [
    "!pip install mediapipe opencv-python"
   ]
  },
  {
   "cell_type": "code",
   "execution_count": 99,
   "id": "47436377-f57d-478c-bafa-c4820f8aec1e",
   "metadata": {},
   "outputs": [],
   "source": [
    "import mediapipe as mp\n",
    "import cv2\n",
    "import numpy as np\n",
    "import uuid\n",
    "import os"
   ]
  },
  {
   "cell_type": "code",
   "execution_count": 2,
   "id": "453737d0-f245-4a05-862f-1c9cde800d0c",
   "metadata": {},
   "outputs": [],
   "source": [
    "mp_drawing = mp.solutions.drawing_utils\n",
    "mp_hands = mp.solutions.hands"
   ]
  },
  {
   "cell_type": "code",
   "execution_count": 107,
   "id": "b120a3e0-778b-46cd-9839-f480bf619c0c",
   "metadata": {},
   "outputs": [],
   "source": [
    "def get_label(index, hand, results):\n",
    "    output = None\n",
    "    for idx, classification in enumerate(results.multi_handedness):\n",
    "        if classification.classification[0].index == index:\n",
    "            \n",
    "            # Process results\n",
    "            label = classification.classification[0].label\n",
    "            score = classification.classification[0].score\n",
    "            text = '{} {}'.format(label, round(score, 2))\n",
    "            \n",
    "            # Extract Coordinates\n",
    "            coords = tuple(np.multiply(\n",
    "                np.array((hand.landmark[mp_hands.HandLandmark.WRIST].x, hand.landmark[mp_hands.HandLandmark.WRIST].y)),\n",
    "            [640,480]).astype(int))\n",
    "            \n",
    "            output = text, coords\n",
    "            \n",
    "    return output"
   ]
  },
  {
   "cell_type": "code",
   "execution_count": 116,
   "id": "cdbaadb3-bebe-44e0-8a90-9f90710f5371",
   "metadata": {},
   "outputs": [
    {
     "data": {
      "text/plain": [
       "('Left 0.97', (214, 341))"
      ]
     },
     "execution_count": 116,
     "metadata": {},
     "output_type": "execute_result"
    }
   ],
   "source": [
    "get_label(num,hand,results)"
   ]
  },
  {
   "cell_type": "code",
   "execution_count": 115,
   "id": "b9e1a227-a1e4-4fa7-896d-053bc2dd08eb",
   "metadata": {},
   "outputs": [],
   "source": [
    "cap = cv2.VideoCapture(0)\n",
    "\n",
    "with mp_hands.Hands(min_detection_confidence=0.8, min_tracking_confidence=0.5) as hands: \n",
    "    while cap.isOpened():\n",
    "        ret, frame = cap.read()\n",
    "        \n",
    "        # BGR 2 RGB\n",
    "        image = cv2.cvtColor(frame, cv2.COLOR_BGR2RGB)\n",
    "        \n",
    "        # Flip on horizontal\n",
    "        image = cv2.flip(image, 1)\n",
    "        \n",
    "        # Set flag\n",
    "        image.flags.writeable = False\n",
    "        \n",
    "        # Detections\n",
    "        results = hands.process(image)\n",
    "        # Set flag to true\n",
    "        image.flags.writeable = True\n",
    "        \n",
    "        # RGB 2 BGR\n",
    "        image = cv2.cvtColor(image, cv2.COLOR_RGB2BGR)\n",
    "\n",
    "        \n",
    "        \n",
    "        # Detections\n",
    "        # print(results)\n",
    "        \n",
    "        # Rendering results\n",
    "        if results.multi_hand_landmarks:\n",
    "            for num, hand in enumerate(results.multi_hand_landmarks):\n",
    "                mp_drawing.draw_landmarks(image, hand, mp_hands.HAND_CONNECTIONS, \n",
    "                                        mp_drawing.DrawingSpec(color=(121, 22, 76), thickness=2, circle_radius=4),\n",
    "                                        mp_drawing.DrawingSpec(color=(250, 44, 250), thickness=2, circle_radius=2),)\n",
    "\n",
    "                if get_label(num, hand, results):\n",
    "                    text, coord = get_label(num, hand, results)\n",
    "                    cv2.putText(image, text, coord, cv2.FONT_HERSHEY_SIMPLEX, 1, (255, 255, 255), 2, cv2.LINE_AA)\n",
    "        \n",
    "        cv2.imshow('Hand Tracking', image)\n",
    "\n",
    "        if cv2.waitKey(10) & 0xFF == ord('q'):\n",
    "            break\n",
    "\n",
    "cap.release()\n",
    "cv2.destroyAllWindows()"
   ]
  },
  {
   "cell_type": "code",
   "execution_count": 24,
   "id": "be32b5d5-08b4-4f2e-be4b-3757276a096e",
   "metadata": {},
   "outputs": [
    {
     "name": "stdout",
     "output_type": "stream",
     "text": [
      "index finger up\n"
     ]
    }
   ],
   "source": [
    "for x in results.multi_hand_landmarks:\n",
    "    if (x.landmark[mp_hands.HandLandmark.INDEX_FINGER_TIP]).y > (x.landmark[mp_hands.HandLandmark.INDEX_FINGER_DIP]).y:\n",
    "        print(\"index finger down\")\n",
    "    else:\n",
    "        print(\"index finger up\")"
   ]
  },
  {
   "cell_type": "code",
   "execution_count": 129,
   "id": "4fa3e533-61ef-4512-a25b-706a1f3c46ab",
   "metadata": {},
   "outputs": [
    {
     "data": {
      "text/plain": [
       "index: 0\n",
       "score: 0.97322893\n",
       "label: \"Left\""
      ]
     },
     "execution_count": 129,
     "metadata": {},
     "output_type": "execute_result"
    }
   ],
   "source": [
    "results.multi_handedness[0].classification[0]"
   ]
  },
  {
   "cell_type": "code",
   "execution_count": 60,
   "id": "9249f833-0877-4b49-a5a7-b53c7a292a9f",
   "metadata": {},
   "outputs": [
    {
     "data": {
      "text/plain": [
       "[classification {\n",
       "   index: 0\n",
       "   score: 0.9778062\n",
       "   label: \"Left\"\n",
       " },\n",
       " classification {\n",
       "   index: 1\n",
       "   score: 0.8947927\n",
       "   label: \"Right\"\n",
       " }]"
      ]
     },
     "execution_count": 60,
     "metadata": {},
     "output_type": "execute_result"
    }
   ],
   "source": [
    "results.multi_handedness"
   ]
  },
  {
   "cell_type": "code",
   "execution_count": 123,
   "id": "ce9e8468-5675-42c0-bd56-262a788031b3",
   "metadata": {},
   "outputs": [
    {
     "data": {
      "text/plain": [
       "x: 0.31693545\n",
       "y: 0.46262664\n",
       "z: -0.0385514"
      ]
     },
     "execution_count": 123,
     "metadata": {},
     "output_type": "execute_result"
    }
   ],
   "source": [
    "results.multi_hand_landmarks[0].landmark[20]"
   ]
  },
  {
   "cell_type": "code",
   "execution_count": null,
   "id": "804ce3ff-f6c6-44f0-a492-cda9077d7cdb",
   "metadata": {},
   "outputs": [],
   "source": []
  }
 ],
 "metadata": {
  "kernelspec": {
   "display_name": "Python 3 (ipykernel)",
   "language": "python",
   "name": "python3"
  },
  "language_info": {
   "codemirror_mode": {
    "name": "ipython",
    "version": 3
   },
   "file_extension": ".py",
   "mimetype": "text/x-python",
   "name": "python",
   "nbconvert_exporter": "python",
   "pygments_lexer": "ipython3",
   "version": "3.11.7"
  }
 },
 "nbformat": 4,
 "nbformat_minor": 5
}
